{
 "cells": [
  {
   "cell_type": "markdown",
   "metadata": {},
   "source": [
    "Copyright **`(c)`** 2024 Giovanni Squillero `<giovanni.squillero@polito.it>`  \n",
    "[`https://github.com/squillero/computational-intelligence`](https://github.com/squillero/computational-intelligence)  \n",
    "Free for personal or classroom use; see [`LICENSE.md`](https://github.com/squillero/computational-intelligence/blob/master/LICENSE.md) for details.  "
   ]
  },
  {
   "cell_type": "markdown",
   "metadata": {},
   "source": [
    "# Set Cover problem\n",
    "\n",
    "See: https://en.wikipedia.org/wiki/Set_cover_problem"
   ]
  },
  {
   "cell_type": "code",
   "execution_count": 12,
   "metadata": {},
   "outputs": [],
   "source": [
    "from random import random, seed\n",
    "from itertools import product\n",
    "import numpy as np\n",
    "import matplotlib.pyplot as plt\n",
    "from icecream import ic\n",
    "from tqdm.auto import tqdm"
   ]
  },
  {
   "cell_type": "markdown",
   "metadata": {},
   "source": [
    "## Reproducible Initialization\n",
    "\n",
    "If you want to get reproducible results, use `rng` (and restart the kernel); for non-reproducible ones, use `np.random`."
   ]
  },
  {
   "cell_type": "code",
   "execution_count": 13,
   "metadata": {},
   "outputs": [],
   "source": [
    "UNIVERSE_SIZE = 1000\n",
    "NUM_SETS = 100\n",
    "DENSITY = 0.2\n",
    "NSTEPS = 10000\n",
    "\n",
    "rng = np.random.Generator(np.random.PCG64([UNIVERSE_SIZE, NUM_SETS, int(10_000 * DENSITY)]))"
   ]
  },
  {
   "cell_type": "code",
   "execution_count": 14,
   "metadata": {},
   "outputs": [],
   "source": [
    "# DON'T EDIT THESE LINES!\n",
    "\n",
    "SETS = np.random.random((NUM_SETS, UNIVERSE_SIZE)) < DENSITY\n",
    "for s in range(UNIVERSE_SIZE):\n",
    "    if not np.any(SETS[:, s]):\n",
    "        SETS[np.random.randint(NUM_SETS), s] = True\n",
    "COSTS = np.pow(SETS.sum(axis=1), 1.1)"
   ]
  },
  {
   "cell_type": "markdown",
   "metadata": {},
   "source": [
    "## Helper Functions"
   ]
  },
  {
   "cell_type": "code",
   "execution_count": 15,
   "metadata": {},
   "outputs": [],
   "source": [
    "def valid(solution):\n",
    "    \"\"\"Checks wether solution is valid (ie. covers all universe)\"\"\"\n",
    "    return np.all(np.logical_or.reduce(SETS[solution]))\n",
    "\n",
    "\n",
    "def cost(solution):\n",
    "    \"\"\"Returns the cost of a solution (to be minimized)\"\"\"\n",
    "    return COSTS[solution].sum()"
   ]
  },
  {
   "cell_type": "markdown",
   "metadata": {},
   "source": [
    "## Have Fun!"
   ]
  },
  {
   "cell_type": "code",
   "execution_count": 16,
   "metadata": {},
   "outputs": [],
   "source": [
    "def generate_sets(UNIVERSE_SIZE: int, NUM_SETS: int, density: float):\n",
    "    rng = np.random.Generator(np.random.PCG64([UNIVERSE_SIZE, NUM_SETS, int(10_000 * density)]))\n",
    "    sets = np.random.random((NUM_SETS, UNIVERSE_SIZE)) < density\n",
    "    for s in range(UNIVERSE_SIZE):\n",
    "        if not np.any(sets[:, s]):\n",
    "            sets[np.random.randint(NUM_SETS), s] = True\n",
    "    COSTS = np.pow(sets.sum(axis=1), 1.1)\n",
    "    return (rng, sets, COSTS)"
   ]
  },
  {
   "cell_type": "code",
   "execution_count": 17,
   "metadata": {},
   "outputs": [
    {
     "data": {
      "text/plain": [
       "'\\n# A dumb solution of \"all\" sets\\nsolution = np.full(NUM_SETS, True)\\nvalid(solution), cost(solution)\\n\\n# A random solution with random 50% of the sets\\nsolution = rng.random(NUM_SETS) < .5\\nvalid(solution), -cost(solution)\\n'"
      ]
     },
     "execution_count": 17,
     "metadata": {},
     "output_type": "execute_result"
    }
   ],
   "source": [
    "\"\"\"\n",
    "# A dumb solution of \"all\" sets\n",
    "solution = np.full(NUM_SETS, True)\n",
    "valid(solution), cost(solution)\n",
    "\n",
    "# A random solution with random 50% of the sets\n",
    "solution = rng.random(NUM_SETS) < .5\n",
    "valid(solution), -cost(solution)\n",
    "\"\"\""
   ]
  },
  {
   "cell_type": "code",
   "execution_count": 18,
   "metadata": {},
   "outputs": [],
   "source": [
    "def single_mutation_tweak(solution: np.ndarray) -> np.ndarray:\n",
    "    \"\"\"Tweaks the solution by flipping a random set, i.e. not taking it if it was taken and vice versa\"\"\"\n",
    "    new_sol = solution.copy()\n",
    "    idx = rng.integers(NUM_SETS)\n",
    "    new_sol[idx] = not new_sol[idx]\n",
    "    return new_sol\n",
    "\n",
    "def multi_mutation_tweak(solution: np.ndarray) -> np.ndarray:\n",
    "\n",
    "    new_sol = solution.copy()\n",
    "    \"\"\"Create a random mask of sets to be flipped and apply it to the solution,\n",
    "        If the mask is True and the set is already taken -> true to false\n",
    "        If the mask is True and the set is not taken -> false to true\"\"\"\n",
    "    \n",
    "    #while solution is the same as the new solution, keep generating new solutions\n",
    "    while np.all(new_sol == solution):\n",
    "        mask = rng.random(NUM_SETS) < 0.01\n",
    "        new_sol = np.logical_xor(new_sol, mask)\n",
    "\n",
    "    return new_sol\n",
    "\n",
    "def multi_tweak_no_mask(solution: np.ndarray) -> np.ndarray:\n",
    "    new_sol = solution.copy()\n",
    "    index = None\n",
    "    while index is None or np.random.random() < 0.2:\n",
    "        index = rng.integers(0, NUM_SETS)\n",
    "        new_sol[index] = not new_sol[index]\n",
    "    \n",
    "    return new_sol\n",
    "\n"
   ]
  },
  {
   "cell_type": "code",
   "execution_count": 19,
   "metadata": {},
   "outputs": [],
   "source": [
    "def fitness(solution: np.ndarray) -> float:\n",
    "    \"\"\"Returns the fitness of a solution\"\"\"\n",
    "    return (valid(solution), -cost(solution))"
   ]
  },
  {
   "cell_type": "markdown",
   "metadata": {},
   "source": [
    "## Hill Climber with random multi tweak"
   ]
  },
  {
   "cell_type": "code",
   "execution_count": 20,
   "metadata": {},
   "outputs": [
    {
     "name": "stderr",
     "output_type": "stream",
     "text": [
      "ic| solution_fitness: (np.True_, np.float64(-34252.432791347244))\n"
     ]
    },
    {
     "data": {
      "application/vnd.jupyter.widget-view+json": {
       "model_id": "a07da9bb618a4d20b5fc888e2a562d48",
       "version_major": 2,
       "version_minor": 0
      },
      "text/plain": [
       "  0%|          | 0/10000 [00:00<?, ?it/s]"
      ]
     },
     "metadata": {},
     "output_type": "display_data"
    },
    {
     "name": "stderr",
     "output_type": "stream",
     "text": [
      "ic| fitness(solution): (np.True_, np.float64(-6467.076720039803))\n",
      "ic| valid(solution): np.True_\n"
     ]
    },
    {
     "data": {
      "image/png": "[encoded data removed]",
      "text/plain": [
       "<Figure size 640x480 with 1 Axes>"
      ]
     },
     "metadata": {},
     "output_type": "display_data"
    }
   ],
   "source": [
    "\n",
    "\n",
    "#Vector of all false\n",
    "solution = rng.random(NUM_SETS) < 1\n",
    "solution_fitness = fitness(solution)\n",
    "ic(solution_fitness)\n",
    "full_history = [(-cost(solution), 1)]\n",
    "bettering_history = [(-cost(solution), 1)]\n",
    "\n",
    "tweak = multi_tweak_no_mask\n",
    "for steps in tqdm(range(NSTEPS)):\n",
    "    new_solution = tweak(solution)\n",
    "    full_history.append((-cost(new_solution), 1))\n",
    "    #if new solution is better than last one take it\n",
    "    if fitness(new_solution) > fitness(solution):\n",
    "        solution = new_solution\n",
    "    bettering_history.append((-cost(solution), 1))\n",
    "\n",
    "\n",
    "\n",
    "ic(fitness(solution))\n",
    "ic(valid(solution))\n",
    "linspace = np.linspace(0, 1, len(full_history))  # Adjust linspace length\n",
    "#reduce point size\n",
    "plt.scatter(linspace, [x[0] for x in full_history], color='red', s=0.1)\n",
    "linspace = np.linspace(0, 1, len(bettering_history))  # Adjust linspace length\n",
    "plt.plot(linspace, [x[0] for x in bettering_history], color='blue')\n",
    "#build legend\n",
    "plt.legend(['current', 'best'])\n",
    "#save top solution as a png\n",
    "file_name = 'Multi_Tweak_' + str(UNIVERSE_SIZE) + '_' + str(NUM_SETS) + '_' + str(DENSITY) + '_' + str(NSTEPS) + '.png'\n",
    "plt.savefig(file_name)\n",
    "plt.show()\n",
    "#plot as points\n",
    "\n",
    "\n"
   ]
  },
  {
   "cell_type": "markdown",
   "metadata": {},
   "source": [
    "## Hill Climber with multi random tweaks and simulated annhealing"
   ]
  },
  {
   "cell_type": "code",
   "execution_count": 21,
   "metadata": {},
   "outputs": [
    {
     "name": "stderr",
     "output_type": "stream",
     "text": [
      "ic| solution_fitness: (np.True_, np.float64(-34252.432791347244))\n"
     ]
    },
    {
     "data": {
      "application/vnd.jupyter.widget-view+json": {
       "model_id": "0365d9a93b944e3c94867fe9070857e8",
       "version_major": 2,
       "version_minor": 0
      },
      "text/plain": [
       "  0%|          | 0/10000 [00:00<?, ?it/s]"
      ]
     },
     "metadata": {},
     "output_type": "display_data"
    },
    {
     "name": "stderr",
     "output_type": "stream",
     "text": [
      "ic| 'Accepted worsening solution'\n",
      "ic| 'Accepted worsening solution'\n",
      "ic| 'Accepted worsening solution'\n",
      "ic| 'Accepted worsening solution'\n",
      "ic| 'Accepted worsening solution'\n",
      "ic| 'Accepted worsening solution'\n",
      "ic| 'Accepted worsening solution'\n",
      "ic| 'Accepted worsening solution'\n",
      "ic| 'Accepted worsening solution'\n",
      "ic| 'Accepted worsening solution'\n",
      "ic| 'Accepted worsening solution'\n",
      "ic| 'Accepted worsening solution'\n",
      "ic| 'Accepted worsening solution'\n",
      "ic| 'Accepted worsening solution'\n",
      "ic| 'Accepted worsening solution'\n",
      "ic| fitness(solution): (np.True_, np.float64(-6377.2438397034375))\n",
      "ic| valid(solution): np.True_\n"
     ]
    },
    {
     "data": {
      "image/png": "[encoded data removed]",
      "text/plain": [
       "<Figure size 640x480 with 1 Axes>"
      ]
     },
     "metadata": {},
     "output_type": "display_data"
    }
   ],
   "source": [
    "\n",
    "#Vector of all false\n",
    "solution = rng.random(NUM_SETS) < 1\n",
    "solution_fitness = fitness(solution)\n",
    "ic(solution_fitness)\n",
    "full_history = [(-cost(solution), 1)]\n",
    "bettering_history = [(-cost(solution), 1)]\n",
    "\n",
    "tweak = multi_tweak_no_mask\n",
    "for steps in tqdm(range(NSTEPS)):\n",
    "    new_solution = tweak(solution)\n",
    "    new_fitness = fitness(new_solution)\n",
    "    current_fitness = fitness(solution)\n",
    "\n",
    "    #if the new solution is better than the current one, accept it\n",
    "    # else if the acceptance probability is greater than a random number between 0 and 1,\n",
    "    # accept the new solution\n",
    "    if new_fitness > current_fitness:\n",
    "        solution = new_solution\n",
    "        bettering_history.append((-cost(solution), 1))\n",
    "    else:\n",
    "        #put a lower bound on min temperature, that is decreasing with the number of steps\n",
    "        # from 1 to 0.01\n",
    "        temperature = max(0.01, 1 - steps / NSTEPS )\n",
    "        # Calculate acceptance probability\n",
    "        # Solution needs to be valid if the starting one was valid\n",
    "        if(new_fitness[0] == current_fitness[0] or new_fitness[0] == True):\n",
    "            acceptance_probability = np.exp((new_fitness[1] - current_fitness[1]) / temperature)\n",
    "            if acceptance_probability > rng.random():\n",
    "                ic(\"Accepted worsening solution\")\n",
    "                solution = new_solution\n",
    "                bettering_history.append((-cost(solution), 1))\n",
    "            else:\n",
    "                bettering_history.append((-cost(solution), 1))\n",
    "    \n",
    "    full_history.append((-cost(solution), 1))\n",
    "\n",
    "\n",
    "#save top solution as a numpy file\n",
    "file_name = 'top_solution_' + str(UNIVERSE_SIZE) + '_' + str(NUM_SETS) + '_' + str(DENSITY) + '2.png'\n",
    "\n",
    "ic(fitness(solution))\n",
    "ic(valid(solution))\n",
    "linspace = np.linspace(0, 1, len(full_history))  # Adjust linspace length\n",
    "#reduce point size\n",
    "plt.scatter(linspace, [x[0] for x in full_history], color='red', s=0.1)\n",
    "linspace = np.linspace(0, 1, len(bettering_history))  # Adjust linspace length\n",
    "plt.plot(linspace, [x[0] for x in bettering_history], color='blue')\n",
    "#build legend\n",
    "plt.legend(['current', 'best'])\n",
    "#save top solution as a png\n",
    "file_name = 'Simulated_Annealing_' + str(UNIVERSE_SIZE) + '_' + str(NUM_SETS) + '_' + str(DENSITY) + '_' + str(NSTEPS) + '.png'\n",
    "plt.savefig(file_name)\n",
    "plt.show()\n"
   ]
  },
  {
   "cell_type": "code",
   "execution_count": 22,
   "metadata": {},
   "outputs": [],
   "source": [
    "\n",
    "# After nsets steps of minimal improving: less than 1 unit improvement\n",
    "# Get a new starting position, calculated from the last solution, with\n",
    "# a powered random tweak (10 times more likely to flip a set)\n",
    "\n",
    "def powered_tweak(solution: np.ndarray) -> np.ndarray:\n",
    "    new_sol = solution.copy()\n",
    "    #temp is an invalid solution (all zeros)\n",
    "    temp = np.zeros(NUM_SETS, dtype=bool)\n",
    "    \"\"\"Create a random mask of sets to be flipped and apply it to the solution,\n",
    "        If the mask is True and the set is already taken -> true to false\n",
    "        If the mask is True and the set is not taken -> false to true\"\"\"\n",
    "    while not valid(temp):\n",
    "        mask = rng.random(NUM_SETS) < 0.1\n",
    "        temp = np.logical_xor(new_sol, mask)\n",
    "        #if the starting solution is invalid, return tweaked one anyway\n",
    "        if fitness(solution)[0] == False:\n",
    "            return temp\n",
    "\n",
    "    new_sol = temp\n",
    "    return new_sol\n",
    "\n",
    "def new_starting_position(last: np.ndarray) -> np.ndarray:\n",
    "    \"\"\"Returns a new starting position for the solution\"\"\"\n",
    "    #flip a set with power_tweak\n",
    "    new = powered_tweak(last)\n",
    "\n",
    "    return new"
   ]
  },
  {
   "cell_type": "markdown",
   "metadata": {},
   "source": [
    "## Hill Climber with random multi mutation tweak and Iterated Local Search\n",
    "Steepest step w n = 5"
   ]
  },
  {
   "cell_type": "code",
   "execution_count": 23,
   "metadata": {},
   "outputs": [
    {
     "name": "stderr",
     "output_type": "stream",
     "text": [
      "ic| solution_fitness: (np.True_, np.float64(-34252.432791347244))\n"
     ]
    },
    {
     "data": {
      "application/vnd.jupyter.widget-view+json": {
       "model_id": "9d9ba025a7de4a87b54458a18f108b6a",
       "version_major": 2,
       "version_minor": 0
      },
      "text/plain": [
       "  0%|          | 0/10000 [00:00<?, ?it/s]"
      ]
     },
     "metadata": {},
     "output_type": "display_data"
    },
    {
     "name": "stderr",
     "output_type": "stream",
     "text": [
      "ic| \"Approximated Local Minima\": 'Approximated Local Minima'\n",
      "    sol_n: 1\n",
      "    fitness(sol): (np.True_, np.float64(-6340.427945518825))\n",
      "ic| \"Approximated Local Minima\": 'Approximated Local Minima'\n",
      "    sol_n: 2\n",
      "    fitness(sol): (np.True_, np.float64(-6627.90377050756))\n",
      "ic| \"Approximated Local Minima\": 'Approximated Local Minima'\n",
      "    sol_n: 3\n",
      "    fitness(sol): (np.True_, np.float64(-6635.414529214827))\n",
      "ic| \"Approximated Local Minima\": 'Approximated Local Minima'\n",
      "    sol_n: 4\n",
      "    fitness(sol): (np.True_, np.float64(-6648.740079167175))\n",
      "ic| \"Approximated Local Minima\": 'Approximated Local Minima'\n",
      "    sol_n: 5\n",
      "    fitness(sol): (np.True_, np.float64(-6700.6782186822375))\n",
      "ic| \"Approximated Local Minima\": 'Approximated Local Minima'\n",
      "    sol_n: 6\n",
      "    fitness(sol): (np.True_, np.float64(-9682.282512096652))\n"
     ]
    },
    {
     "data": {
      "image/png": "[encoded data removed]",
      "text/plain": [
       "<Figure size 640x480 with 1 Axes>"
      ]
     },
     "metadata": {},
     "output_type": "display_data"
    }
   ],
   "source": [
    "\n",
    "\n",
    "#How many steps to wait for a new starting position\n",
    "# with NSTEPS is just a steepest step = 5\n",
    "MAX_ITERATIONS = 5\n",
    "CHANGE_STEPS = NSTEPS/MAX_ITERATIONS\n",
    "\n",
    "CHANGE_COST = (np.average(COSTS)/UNIVERSE_SIZE)\n",
    "\n",
    "#Vector of all true\n",
    "solution = rng.random(NUM_SETS) < 1\n",
    "solution_fitness = fitness(solution)\n",
    "ic(solution_fitness)\n",
    "full_history = [(-cost(solution), 1)]\n",
    "bettering_history = [(-cost(solution), 1)]\n",
    "\n",
    "#Iterated Local search\n",
    "tweak = multi_tweak_no_mask\n",
    "change_quantity = []\n",
    "change_steps = 0\n",
    "top_solution = []\n",
    "\n",
    "\n",
    "for steps in tqdm(range(NSTEPS)):\n",
    "    #compute ten new solutions and take the best one\n",
    "\n",
    "    new_solution = [tweak(solution) for _ in range(3)]\n",
    "    new_solution = sorted(new_solution, key=lambda x: fitness(x), reverse=True)[0]\n",
    "    full_history.append((-cost(new_solution), 1))\n",
    "    #if new solution is better than last one take it\n",
    "    if fitness(new_solution) > fitness(solution):\n",
    "        solution = new_solution\n",
    "        change_quantity.append(-cost(new_solution) + cost(solution))\n",
    "    else:\n",
    "        change_quantity.append(0)\n",
    "    change_steps += 1\n",
    "\n",
    "\n",
    "    # If in the last 100 steps the improvement was less than average cost of sets\n",
    "    #  get a new starting position, else remove the first cost of the vector\n",
    "    #  and shift the rest of the vector to the left\n",
    "\n",
    "    if change_steps == CHANGE_STEPS:\n",
    "        if sum(change_quantity) < CHANGE_COST:\n",
    "            top_solution.append(solution)\n",
    "            solution = new_starting_position(solution)\n",
    "            \n",
    "            change_quantity = []\n",
    "            change_steps = 0\n",
    "        else:\n",
    "            change_quantity.pop(0)\n",
    "            change_steps -= 1\n",
    "    \n",
    "    bettering_history.append((-cost(solution), 1))\n",
    "\n",
    "top_solution.append(solution)\n",
    "#sort top solutions for fitness\n",
    "top_solution = sorted(top_solution, key=lambda x: fitness(x), reverse=True)\n",
    "sol_n = 1\n",
    "for sol in top_solution:\n",
    "    ic(\"Approximated Local Minima\", sol_n, fitness(sol))\n",
    "    sol_n += 1\n",
    "\n",
    "#save plot\n",
    "file_name = 'top_solution_' + str(UNIVERSE_SIZE) + '_' + str(NUM_SETS) + '_' + str(DENSITY) + '3.png'\n",
    "\n",
    "linspace = np.linspace(0, 1, len(full_history))  # Adjust linspace length\n",
    "#plot all points\n",
    "plt.scatter(linspace, [x[0] for x in full_history], color='red', s=0.1)\n",
    "linspace = np.linspace(0, 1, len(bettering_history))  # Adjust linspace length\n",
    "plt.plot(linspace, [x[0] for x in bettering_history], color='blue')\n",
    "#build legend\n",
    "plt.legend(['current', 'best'])\n",
    "#save top solution as a png\n",
    "file_name = 'Iterated_Local_Search_' + str(UNIVERSE_SIZE) + '_' + str(NUM_SETS) + '_' + str(DENSITY) + '_' + str(NSTEPS) + '.png'\n",
    "plt.savefig(file_name)\n",
    "plt.show()\n"
   ]
  },
  {
   "cell_type": "markdown",
   "metadata": {},
   "source": [
    "## Hill Climbing with Iterated Local Search and Tabu search"
   ]
  },
  {
   "cell_type": "code",
   "execution_count": 24,
   "metadata": {},
   "outputs": [
    {
     "data": {
      "text/plain": [
       "' Not a substantial improvement, the search space is too large\\n#Taboo map\\ntabu_map = {}\\ntabu_map.update({hash(str(solution)): 1})\\n'"
      ]
     },
     "execution_count": 24,
     "metadata": {},
     "output_type": "execute_result"
    }
   ],
   "source": [
    "\n",
    "\"\"\" Not a substantial improvement, the search space is too large\n",
    "#Taboo map\n",
    "tabu_map = {}\n",
    "tabu_map.update({hash(str(solution)): 1})\n",
    "\"\"\""
   ]
  },
  {
   "cell_type": "markdown",
   "metadata": {},
   "source": []
  }
 ],
 "metadata": {
  "kernelspec": {
   "display_name": "ci-zrOSi8Xw-py3.12",
   "language": "python",
   "name": "python3"
  },
  "language_info": {
   "codemirror_mode": {
    "name": "ipython",
    "version": 3
   },
   "file_extension": ".py",
   "mimetype": "text/x-python",
   "name": "python",
   "nbconvert_exporter": "python",
   "pygments_lexer": "ipython3",
   "version": "3.12.2"
  }
 },
 "nbformat": 4,
 "nbformat_minor": 4
}
