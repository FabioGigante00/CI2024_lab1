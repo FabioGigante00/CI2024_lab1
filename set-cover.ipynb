{
 "cells": [
  {
   "cell_type": "markdown",
   "metadata": {},
   "source": [
    "Copyright **`(c)`** 2024 Giovanni Squillero `<giovanni.squillero@polito.it>`  \n",
    "[`https://github.com/squillero/computational-intelligence`](https://github.com/squillero/computational-intelligence)  \n",
    "Free for personal or classroom use; see [`LICENSE.md`](https://github.com/squillero/computational-intelligence/blob/master/LICENSE.md) for details.  "
   ]
  },
  {
   "cell_type": "markdown",
   "metadata": {},
   "source": [
    "# Set Cover problem\n",
    "\n",
    "See: https://en.wikipedia.org/wiki/Set_cover_problem"
   ]
  },
  {
   "cell_type": "code",
   "execution_count": 23,
   "metadata": {},
   "outputs": [],
   "source": [
    "from random import random, seed\n",
    "from itertools import product\n",
    "import numpy as np\n",
    "import matplotlib.pyplot as plt\n",
    "from icecream import ic\n",
    "from tqdm.auto import tqdm\n",
    "import torch"
   ]
  },
  {
   "cell_type": "markdown",
   "metadata": {},
   "source": [
    "## Reproducible Initialization\n",
    "\n",
    "If you want to get reproducible results, use `rng` (and restart the kernel); for non-reproducible ones, use `np.random`."
   ]
  },
  {
   "cell_type": "code",
   "execution_count": 24,
   "metadata": {},
   "outputs": [],
   "source": [
    "UNIVERSE_SIZE = 1000\n",
    "NUM_SETS = 100\n",
    "DENSITY = 0.2\n",
    "NSTEPS = 10000\n",
    "\n",
    "rng = np.random.Generator(np.random.PCG64([UNIVERSE_SIZE, NUM_SETS, int(10_000 * DENSITY)]))"
   ]
  },
  {
   "cell_type": "code",
   "execution_count": 25,
   "metadata": {},
   "outputs": [],
   "source": [
    "# DON'T EDIT THESE LINES!\n",
    "\n",
    "SETS = np.random.random((NUM_SETS, UNIVERSE_SIZE)) < DENSITY\n",
    "for s in range(UNIVERSE_SIZE):\n",
    "    if not np.any(SETS[:, s]):\n",
    "        SETS[np.random.randint(NUM_SETS), s] = True\n",
    "COSTS = np.pow(SETS.sum(axis=1), 1.1)\n",
    "\n",
    "SETS = torch.tensor(SETS, dtype=torch.bool)\n",
    "COSTS = torch.tensor(COSTS, dtype=torch.float32)\n"
   ]
  },
  {
   "cell_type": "markdown",
   "metadata": {},
   "source": [
    "## Helper Functions"
   ]
  },
  {
   "cell_type": "code",
   "execution_count": 26,
   "metadata": {},
   "outputs": [],
   "source": [
    "\"\"\"\n",
    "def valid(solution):\n",
    "    #Checks wether solution is valid (ie. covers all universe)\n",
    "    return np.all(np.logical_or.reduce(SETS[solution]))\n",
    "\n",
    "\n",
    "def cost(solution):\n",
    "    #Returns the cost of a solution (to be minimized)\n",
    "    return COSTS[solution].sum()\n",
    "\n",
    "\"\"\"\n",
    "\n",
    "def valid(solution: torch.Tensor, SETS: torch.Tensor) -> bool:\n",
    "    \"\"\"Checks whether the solution is valid (i.e., covers the entire universe) using PyTorch tensors.\"\"\"\n",
    "    selected_sets = SETS[solution]  # Get the sets indexed by the solution\n",
    "    coverage = torch.any(selected_sets, dim=0)  # Check if any True across rows for each column\n",
    "    return torch.all(coverage)  # Valid if all columns are covered (i.e., all True)\n",
    "\n",
    "\n",
    "def cost(solution: torch.Tensor, COSTS: torch.Tensor) -> torch.Tensor:\n",
    "    \"\"\"Returns the cost of a solution (to be minimized) using PyTorch tensors.\"\"\"\n",
    "    return COSTS[solution].sum()\n"
   ]
  },
  {
   "cell_type": "markdown",
   "metadata": {},
   "source": [
    "## Have Fun!"
   ]
  },
  {
   "cell_type": "code",
   "execution_count": 27,
   "metadata": {},
   "outputs": [],
   "source": [
    "def generate_sets(UNIVERSE_SIZE: int, NUM_SETS: int, density: float):\n",
    "    rng = np.random.Generator(np.random.PCG64([UNIVERSE_SIZE, NUM_SETS, int(10_000 * density)]))\n",
    "    sets = np.random.random((NUM_SETS, UNIVERSE_SIZE)) < density\n",
    "    for s in range(UNIVERSE_SIZE):\n",
    "        if not np.any(sets[:, s]):\n",
    "            sets[np.random.randint(NUM_SETS), s] = True\n",
    "    COSTS = np.pow(sets.sum(axis=1), 1.1)\n",
    "    return (rng, sets, COSTS)"
   ]
  },
  {
   "cell_type": "code",
   "execution_count": null,
   "metadata": {},
   "outputs": [],
   "source": [
    "\"\"\"\n",
    "# A dumb solution of \"all\" sets\n",
    "solution = np.full(NUM_SETS, True)\n",
    "valid(solution), cost(solution)\n",
    "\n",
    "# A random solution with random 50% of the sets\n",
    "solution = rng.random(NUM_SETS) < .5\n",
    "valid(solution), -cost(solution)\n",
    "\"\"\""
   ]
  },
  {
   "cell_type": "code",
   "execution_count": 29,
   "metadata": {},
   "outputs": [],
   "source": [
    "def single_mutation_tweak(solution: np.ndarray) -> np.ndarray:\n",
    "    \"\"\"Tweaks the solution by flipping a random set, i.e. not taking it if it was taken and vice versa\"\"\"\n",
    "    new_sol = solution.copy()\n",
    "    idx = rng.integers(NUM_SETS)\n",
    "    new_sol[idx] = not new_sol[idx]\n",
    "    return new_sol\n",
    "\n",
    "def multi_mutation_tweak(solution: np.ndarray) -> np.ndarray:\n",
    "\n",
    "    new_sol = solution.copy()\n",
    "    \"\"\"Create a random mask of sets to be flipped and apply it to the solution,\n",
    "        If the mask is True and the set is already taken -> true to false\n",
    "        If the mask is True and the set is not taken -> false to true\"\"\"\n",
    "    \n",
    "    #while solution is the same as the new solution, keep generating new solutions\n",
    "    while np.all(new_sol == solution):\n",
    "        mask = rng.random(NUM_SETS) < 0.01\n",
    "        new_sol = np.logical_xor(new_sol, mask)\n",
    "\n",
    "    return new_sol\n",
    "\"\"\"\n",
    "def multi_tweak_no_mask(solution: np.ndarray) -> np.ndarray:\n",
    "    new_sol = solution.copy()\n",
    "    index = None\n",
    "    while index is None or np.random.random() < 0.2:\n",
    "        index = rng.integers(0, NUM_SETS)\n",
    "        new_sol[index] = not new_sol[index]\n",
    "    \n",
    "    return new_sol\n",
    "\n",
    "\"\"\"\n",
    "\n",
    "# Convert np.ndarray to torch.Tensor\n",
    "def numpy_to_torch_gpu(arr: np.ndarray) -> torch.Tensor:\n",
    "    return torch.tensor(arr, device='cuda')\n",
    "\n",
    "# Convert torch.Tensor to np.ndarray\n",
    "def torch_to_numpy(tensor: torch.Tensor) -> np.ndarray:\n",
    "    return tensor.cpu().numpy()\n",
    "\n",
    "def multi_tweak_no_mask(solution: torch.Tensor) -> torch.Tensor:\n",
    "    new_sol = solution.clone()\n",
    "    index = None\n",
    "    while index is None or torch.rand(1).item() < 0.2:\n",
    "        index = torch.randint(0, NUM_SETS, (1,)).item()\n",
    "        new_sol[index] = not new_sol[index]\n",
    "    \n",
    "    return new_sol\n"
   ]
  },
  {
   "cell_type": "code",
   "execution_count": 30,
   "metadata": {},
   "outputs": [],
   "source": [
    "\"\"\"\n",
    "def fitness(solution: np.ndarray) -> float:\n",
    "    #Returns the fitness of a solution\n",
    "    return (valid(solution), -cost(solution))\n",
    "\n",
    "\"\"\"\n",
    "def fitness(solution: torch.Tensor, SETS: torch.Tensor, COSTS: torch.Tensor) -> tuple:\n",
    "    \"\"\"Returns the fitness of a solution using PyTorch tensors\"\"\"\n",
    "    is_valid = valid(solution, SETS)\n",
    "    solution_cost = -cost(solution, COSTS)\n",
    "    return is_valid, solution_cost\n"
   ]
  },
  {
   "cell_type": "markdown",
   "metadata": {},
   "source": [
    "## Hill Climber with random multi tweak"
   ]
  },
  {
   "cell_type": "code",
   "execution_count": 31,
   "metadata": {},
   "outputs": [
    {
     "name": "stderr",
     "output_type": "stream",
     "text": [
      "ic| fitness(solution, SETS, COSTS): (tensor(True, device='cuda:0'), tensor(-6549.6235, device='cuda:0'))\n",
      "ic| valid(solution, SETS): tensor(True, device='cuda:0')\n"
     ]
    },
    {
     "data": {
      "image/png": "[encoded data removed]",
      "text/plain": [
       "<Figure size 640x480 with 1 Axes>"
      ]
     },
     "metadata": {},
     "output_type": "display_data"
    }
   ],
   "source": [
    "\n",
    "\n",
    "# Move SETS and COSTS to GPU\n",
    "SETS = SETS.to('cuda')\n",
    "COSTS = COSTS.to('cuda')\n",
    "\n",
    "# Vector of all False\n",
    "solution = rng.random(NUM_SETS) < 1  # Generate the initial solution\n",
    "solution = numpy_to_torch_gpu(solution)  # Move solution to GPU\n",
    "\n",
    "# Compute initial fitness\n",
    "solution_fitness = fitness(solution, SETS, COSTS)\n",
    "\n",
    "# Initialize history\n",
    "full_history = [(-cost(solution, COSTS), 1)]\n",
    "bettering_history = [(-cost(solution, COSTS), 1)]\n",
    "\n",
    "# Tweak function is assumed to already work with PyTorch tensors\n",
    "tweak = multi_tweak_no_mask\n",
    "\n",
    "# Main loop\n",
    "for steps in tqdm(range(NSTEPS)):\n",
    "    new_solution = tweak(solution)\n",
    "    full_history.append((-cost(solution, COSTS), 1))\n",
    "    \n",
    "    # If new solution is better than the last one, take it\n",
    "    if fitness(new_solution, SETS, COSTS) > fitness(solution, SETS, COSTS):\n",
    "        solution = new_solution\n",
    "    \n",
    "    bettering_history.append((-cost(solution, COSTS), 1))\n",
    "\n",
    "\n",
    "\n",
    "\n",
    "ic(fitness(solution, SETS, COSTS))\n",
    "ic(valid(solution, SETS))\n",
    "# Convert full_history and bettering_history to NumPy (if they contain PyTorch tensors)\n",
    "full_history_numpy = [(x[0].cpu().numpy() if isinstance(x[0], torch.Tensor) else x[0]) for x in full_history]\n",
    "bettering_history_numpy = [(x[0].cpu().numpy() if isinstance(x[0], torch.Tensor) else x[0]) for x in bettering_history]\n",
    "\n",
    "# Generate linspace for plotting\n",
    "linspace_full = np.linspace(0, 1, len(full_history_numpy))  # Adjust linspace length for full history\n",
    "linspace_bettering = np.linspace(0, 1, len(bettering_history_numpy))  # Adjust linspace length for bettering history\n",
    "\n",
    "# Scatter plot for full history with reduced point size\n",
    "plt.scatter(linspace_full, full_history_numpy, color='red', s=0.1)\n",
    "\n",
    "# Line plot for bettering history\n",
    "plt.plot(linspace_bettering, bettering_history_numpy, color='blue')\n",
    "#build legend\n",
    "plt.legend(['current', 'best'])\n",
    "#save top solution as a png\n",
    "file_name = 'Multi_Tweak_' + str(UNIVERSE_SIZE) + '_' + str(NUM_SETS) + '_' + str(DENSITY) + '_' + str(NSTEPS) + '.png'\n",
    "plt.savefig(file_name)\n",
    "plt.show()\n",
    "#plot as points\n",
    "\n",
    "\n"
   ]
  },
  {
   "cell_type": "markdown",
   "metadata": {},
   "source": [
    "## Hill Climber with multi random tweaks and simulated annhealing"
   ]
  },
  {
   "cell_type": "code",
   "execution_count": 34,
   "metadata": {},
   "outputs": [
    {
     "data": {
      "application/vnd.jupyter.widget-view+json": {
       "model_id": "def1338086e844ee83865c57f31d88b7",
       "version_major": 2,
       "version_minor": 0
      },
      "text/plain": [
       "  0%|          | 0/10000 [00:00<?, ?it/s]"
      ]
     },
     "metadata": {},
     "output_type": "display_data"
    },
    {
     "name": "stderr",
     "output_type": "stream",
     "text": [
      "ic| fitness(solution, SETS, COSTS): (tensor(True, device='cuda:0'), tensor(-6748.4565, device='cuda:0'))\n",
      "ic| valid(solution, SETS): tensor(True, device='cuda:0')\n"
     ]
    },
    {
     "data": {
      "image/png": "[encoded data removed]",
      "text/plain": [
       "<Figure size 640x480 with 1 Axes>"
      ]
     },
     "metadata": {},
     "output_type": "display_data"
    }
   ],
   "source": [
    "\n",
    "# Vector of all False\n",
    "solution = rng.random(NUM_SETS) < 1  # Generate the initial solution\n",
    "solution = numpy_to_torch_gpu(solution)  # Move solution to GPU\n",
    "\n",
    "# Compute initial fitness\n",
    "solution_fitness = fitness(solution, SETS, COSTS)\n",
    "\n",
    "# Initialize history\n",
    "full_history = [(-cost(solution, COSTS), 1)]\n",
    "bettering_history = [(-cost(solution, COSTS), 1)]\n",
    "\n",
    "\n",
    "tweak = multi_tweak_no_mask\n",
    "for steps in tqdm(range(NSTEPS)):\n",
    "    new_solution = tweak(solution)\n",
    "    new_fitness = fitness(new_solution, SETS, COSTS)\n",
    "    current_fitness = fitness(solution, SETS, COSTS)\n",
    "    full_history.append((-cost(new_solution, COSTS), 1))\n",
    "    #if the new solution is better than the current one, accept it\n",
    "    # else if the acceptance probability is greater than a random number between 0 and 1,\n",
    "    # accept the new solution\n",
    "    if new_fitness > current_fitness:\n",
    "        solution = new_solution\n",
    "        bettering_history.append((-cost(new_solution, COSTS), 1))\n",
    "    else:\n",
    "        #put a lower bound on min temperature, that is decreasing with the number of steps\n",
    "        # from 1 to 0.01\n",
    "        temperature = max(0.01, 1 - steps / NSTEPS )\n",
    "        # Calculate acceptance probability\n",
    "        # Solution needs to be valid if the starting one was valid\n",
    "        if(new_fitness[0].cpu().numpy() == current_fitness[0].cpu().numpy or new_fitness[0].cpu().numpy == True):\n",
    "            acceptance_probability = np.exp((new_fitness[1].cpu().numpy() - current_fitness[1].cpu().numpy()) / temperature)\n",
    "            if acceptance_probability > rng.random():\n",
    "                ic(\"Accepted worsening solution\")\n",
    "                solution = new_solution\n",
    "    bettering_history.append((-cost(solution, COSTS), 1))\n",
    "\n",
    "\n",
    "\n",
    "ic(fitness(solution, SETS, COSTS))\n",
    "ic(valid(solution, SETS))\n",
    "# Convert full_history and bettering_history to NumPy (if they contain PyTorch tensors)\n",
    "full_history_numpy = [(x[0].cpu().numpy() if isinstance(x[0], torch.Tensor) else x[0]) for x in full_history]\n",
    "bettering_history_numpy = [(x[0].cpu().numpy() if isinstance(x[0], torch.Tensor) else x[0]) for x in bettering_history]\n",
    "\n",
    "# Generate linspace for plotting\n",
    "linspace_full = np.linspace(0, 1, len(full_history_numpy))  # Adjust linspace length for full history\n",
    "linspace_bettering = np.linspace(0, 1, len(bettering_history_numpy))  # Adjust linspace length for bettering history\n",
    "\n",
    "# Scatter plot for full history with reduced point size\n",
    "plt.scatter(linspace_full, full_history_numpy, color='red', s=0.1)\n",
    "\n",
    "# Line plot for bettering history\n",
    "plt.plot(linspace_bettering, bettering_history_numpy, color='blue')\n",
    "#build legend\n",
    "plt.legend(['current', 'best'])\n",
    "#save top solution as a png\n",
    "file_name = 'Simulated_Annealing_' + str(UNIVERSE_SIZE) + '_' + str(NUM_SETS) + '_' + str(DENSITY) + '_' + str(NSTEPS) + '.png'\n",
    "plt.savefig(file_name)\n",
    "plt.show()\n"
   ]
  },
  {
   "cell_type": "code",
   "execution_count": null,
   "metadata": {},
   "outputs": [],
   "source": [
    "\"\"\"\n",
    "# After nsets steps of minimal improving: less than 1 unit improvement\n",
    "# Get a new starting position, calculated from the last solution, with\n",
    "# a powered random tweak (10 times more likely to flip a set)\n",
    "\n",
    "def powered_tweak(solution: np.ndarray) -> np.ndarray:\n",
    "    new_sol = solution.copy()\n",
    "    #temp is an invalid solution (all zeros)\n",
    "    temp = np.zeros(NUM_SETS, dtype=bool)\n",
    "    #Create a random mask of sets to be flipped and apply it to the solution,\n",
    "    #    If the mask is True and the set is already taken -> true to false\n",
    "    #    If the mask is True and the set is not taken -> false to true\n",
    "    while not valid(temp):\n",
    "        mask = rng.random(NUM_SETS) < 0.1\n",
    "        temp = np.logical_xor(new_sol, mask)\n",
    "        #if the starting solution is invalid, return tweaked one anyway\n",
    "        if fitness(solution)[0] == False:\n",
    "            return temp\n",
    "\n",
    "    new_sol = temp\n",
    "    return new_sol\n",
    "\n",
    "def new_starting_position(last: np.ndarray) -> np.ndarray:\n",
    "    #Returns a new starting position for the solution\n",
    "    #flip a set with power_tweak\n",
    "    new = powered_tweak(last)\n",
    "\n",
    "    return new\n",
    "\n",
    "\"\"\""
   ]
  },
  {
   "cell_type": "code",
   "execution_count": 35,
   "metadata": {},
   "outputs": [],
   "source": [
    "\n",
    "\n",
    "def powered_tweak(solution: torch.Tensor, SETS: torch.Tensor, COSTS: torch.Tensor) -> torch.Tensor:\n",
    "    \"\"\"Perform a powered random tweak on the solution.\"\"\"\n",
    "    new_sol = solution.clone()\n",
    "    temp = torch.zeros(NUM_SETS, dtype=torch.bool, device=solution.device)  # Invalid solution (all zeros)\n",
    "\n",
    "    # Create a random mask of sets to be flipped\n",
    "    while not valid(temp, SETS):\n",
    "        mask = torch.rand(NUM_SETS, device=solution.device) < 0.1  # Random mask with probability 0.1\n",
    "        temp = torch.logical_xor(new_sol, mask)  # Apply XOR between solution and mask\n",
    "\n",
    "        # If the starting solution is invalid, return the tweaked one anyway\n",
    "        if not fitness(solution, SETS, COSTS)[0]:\n",
    "            return temp\n",
    "\n",
    "    new_sol = temp\n",
    "    return new_sol\n",
    "\n",
    "\n",
    "def new_starting_position(last: torch.Tensor, SETS: torch.Tensor, COSTS: torch.Tensor) -> torch.Tensor:\n",
    "    \"\"\"Returns a new starting position for the solution by performing powered tweak.\"\"\"\n",
    "    # Flip a set with powered_tweak\n",
    "    new = powered_tweak(last, SETS, COSTS)\n",
    "    return new\n"
   ]
  },
  {
   "cell_type": "markdown",
   "metadata": {},
   "source": [
    "## Hill Climber with random multi mutation tweak and Iterated Local Search\n",
    "Steepest step w n = 5"
   ]
  },
  {
   "cell_type": "code",
   "execution_count": 39,
   "metadata": {},
   "outputs": [
    {
     "data": {
      "application/vnd.jupyter.widget-view+json": {
       "model_id": "fc032dc078ad4213b4ef2e64db0ebc8e",
       "version_major": 2,
       "version_minor": 0
      },
      "text/plain": [
       "  0%|          | 0/10000 [00:00<?, ?it/s]"
      ]
     },
     "metadata": {},
     "output_type": "display_data"
    },
    {
     "name": "stderr",
     "output_type": "stream",
     "text": [
      "ic| \"Approximated Local Minima\": 'Approximated Local Minima'\n",
      "    sol_n: 1\n",
      "    fitness(solution, SETS, COSTS): (tensor(True, device='cuda:0'), tensor(-8657.3125, device='cuda:0'))\n",
      "ic| \"Approximated Local Minima\": 'Approximated Local Minima'\n",
      "    sol_n: 2\n",
      "    fitness(solution, SETS, COSTS): (tensor(True, device='cuda:0'), tensor(-8657.3125, device='cuda:0'))\n",
      "ic| \"Approximated Local Minima\": 'Approximated Local Minima'\n",
      "    sol_n: 3\n",
      "    fitness(solution, SETS, COSTS): (tensor(True, device='cuda:0'), tensor(-8657.3125, device='cuda:0'))\n",
      "ic| \"Approximated Local Minima\": 'Approximated Local Minima'\n",
      "    sol_n: 4\n",
      "    fitness(solution, SETS, COSTS): (tensor(True, device='cuda:0'), tensor(-8657.3125, device='cuda:0'))\n",
      "ic| \"Approximated Local Minima\": 'Approximated Local Minima'\n",
      "    sol_n: 5\n",
      "    fitness(solution, SETS, COSTS): (tensor(True, device='cuda:0'), tensor(-8657.3125, device='cuda:0'))\n",
      "ic| \"Approximated Local Minima\": 'Approximated Local Minima'\n",
      "    sol_n: 6\n",
      "    fitness(solution, SETS, COSTS): (tensor(True, device='cuda:0'), tensor(-8657.3125, device='cuda:0'))\n",
      "ic| 4026115531.py:66 in <module> at 09:24:29.106\n",
      "ic| valid(solution, SETS): tensor(True, device='cuda:0')\n"
     ]
    },
    {
     "data": {
      "image/png": "[encoded data removed]",
      "text/plain": [
       "<Figure size 640x480 with 1 Axes>"
      ]
     },
     "metadata": {},
     "output_type": "display_data"
    }
   ],
   "source": [
    "\n",
    "\n",
    "#How many steps to wait for a new starting position\n",
    "# with NSTEPS is just a steepest step = 5\n",
    "MAX_ITERATIONS = 5\n",
    "CHANGE_STEPS = NSTEPS/MAX_ITERATIONS\n",
    "\n",
    "CHANGE_COST = (np.average(COSTS.cpu().numpy())/UNIVERSE_SIZE)\n",
    "\n",
    "# Vector of all False\n",
    "solution = rng.random(NUM_SETS) < 1  # Generate the initial solution\n",
    "solution = numpy_to_torch_gpu(solution)  # Move solution to GPU\n",
    "\n",
    "# Compute initial fitness\n",
    "solution_fitness = fitness(solution, SETS, COSTS)\n",
    "\n",
    "# Initialize history\n",
    "full_history = [(-cost(solution, COSTS), 1)]\n",
    "bettering_history = [(-cost(solution, COSTS), 1)]\n",
    "\n",
    "#Iterated Local search\n",
    "tweak = multi_tweak_no_mask\n",
    "change_quantity = []\n",
    "change_steps = 0\n",
    "top_solution = []\n",
    "\n",
    "\n",
    "for steps in tqdm(range(NSTEPS)):\n",
    "    #compute ten new solutions and take the best one\n",
    "\n",
    "    new_solution = [tweak(solution) for _ in range(3)]\n",
    "    new_solution = sorted(new_solution, key=lambda x: fitness(x, SETS, COSTS), reverse=True)[0]\n",
    "    full_history.append(fitness((-cost(solution), 1))\n",
    "    #if new solution is better than last one take it\n",
    "    if fitness(new_solution, SETS, COSTS) > fitness(solution, SETS, COSTS):\n",
    "        solution = new_solution\n",
    "        change_quantity.append(-cost(new_solution, COSTS) + cost(solution, COSTS))\n",
    "    else:\n",
    "        change_quantity.append(0)\n",
    "    change_steps += 1\n",
    "\n",
    "\n",
    "    # If in the last 100 steps the improvement was less than average cost of sets\n",
    "    #  get a new starting position, else remove the first cost of the vector\n",
    "    #  and shift the rest of the vector to the left\n",
    "\n",
    "    if change_steps == CHANGE_STEPS:\n",
    "        if sum(change_quantity) < CHANGE_COST:\n",
    "            top_solution.append(solution)\n",
    "            solution = new_starting_position(solution, SETS, COSTS)\n",
    "            \n",
    "            change_quantity = []\n",
    "            change_steps = 0\n",
    "        else:\n",
    "            change_quantity.pop(0)\n",
    "            change_steps -= 1\n",
    "    \n",
    "    bettering_history.append((-cost(solution), 1))\n",
    "\n",
    "top_solution.append(solution)\n",
    "#sort top solutions for fitness\n",
    "top_solution = sorted(top_solution, key=lambda x: fitness(x, SETS, COSTS), reverse=True)\n",
    "sol_n = 1\n",
    "for sol in top_solution:\n",
    "    ic(\"Approximated Local Minima\", sol_n, fitness(solution, SETS, COSTS))\n",
    "    sol_n += 1\n",
    "\n",
    "ic()\n",
    "ic(valid(solution, SETS))\n",
    "# Convert full_history and bettering_history to NumPy (if they contain PyTorch tensors)\n",
    "full_history_numpy = [(x[0].cpu().numpy() if isinstance(x[0], torch.Tensor) else x[0]) for x in full_history]\n",
    "bettering_history_numpy = [(x[0].cpu().numpy() if isinstance(x[0], torch.Tensor) else x[0]) for x in bettering_history]\n",
    "\n",
    "# Generate linspace for plotting\n",
    "linspace_full = np.linspace(0, 1, len(full_history_numpy))  # Adjust linspace length for full history\n",
    "linspace_bettering = np.linspace(0, 1, len(bettering_history_numpy))  # Adjust linspace length for bettering history\n",
    "\n",
    "# Scatter plot for full history with reduced point size\n",
    "plt.scatter(linspace_full, full_history_numpy, color='red', s=0.1)\n",
    "\n",
    "# Line plot for bettering history\n",
    "plt.plot(linspace_bettering, bettering_history_numpy, color='blue')\n",
    "#build legend\n",
    "plt.legend(['current', 'best'])\n",
    "#save top solution as a png\n",
    "\n",
    "#save top solution as a png\n",
    "file_name = 'Iterated_Local_Search_' + str(UNIVERSE_SIZE) + '_' + str(NUM_SETS) + '_' + str(DENSITY) + '_' + str(NSTEPS) + '.png'\n",
    "plt.savefig(file_name)\n",
    "plt.show()\n"
   ]
  },
  {
   "cell_type": "markdown",
   "metadata": {},
   "source": [
    "## Hill Climbing with Iterated Local Search and Tabu search"
   ]
  },
  {
   "cell_type": "code",
   "execution_count": null,
   "metadata": {},
   "outputs": [],
   "source": [
    "\n",
    "\"\"\" Not a substantial improvement, the search space is too large\n",
    "#Taboo map\n",
    "tabu_map = {}\n",
    "tabu_map.update({hash(str(solution)): 1})\n",
    "\"\"\""
   ]
  },
  {
   "cell_type": "markdown",
   "metadata": {},
   "source": []
  }
 ],
 "metadata": {
  "kernelspec": {
   "display_name": "ci-zrOSi8Xw-py3.12",
   "language": "python",
   "name": "python3"
  },
  "language_info": {
   "codemirror_mode": {
    "name": "ipython",
    "version": 3
   },
   "file_extension": ".py",
   "mimetype": "text/x-python",
   "name": "python",
   "nbconvert_exporter": "python",
   "pygments_lexer": "ipython3",
   "version": "3.12.2"
  }
 },
 "nbformat": 4,
 "nbformat_minor": 4
}
