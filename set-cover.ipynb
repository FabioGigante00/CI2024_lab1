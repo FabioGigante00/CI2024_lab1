{
 "cells": [
  {
   "cell_type": "markdown",
   "metadata": {},
   "source": [
    "Copyright **`(c)`** 2024 Giovanni Squillero `<giovanni.squillero@polito.it>`  \n",
    "[`https://github.com/squillero/computational-intelligence`](https://github.com/squillero/computational-intelligence)  \n",
    "Free for personal or classroom use; see [`LICENSE.md`](https://github.com/squillero/computational-intelligence/blob/master/LICENSE.md) for details.  "
   ]
  },
  {
   "cell_type": "markdown",
   "metadata": {},
   "source": [
    "# Set Cover problem\n",
    "\n",
    "See: https://en.wikipedia.org/wiki/Set_cover_problem"
   ]
  },
  {
   "cell_type": "code",
   "execution_count": 100,
   "metadata": {},
   "outputs": [],
   "source": [
    "from random import random, seed\n",
    "from itertools import product\n",
    "import numpy as np\n",
    "import matplotlib.pyplot as plt\n",
    "from icecream import ic"
   ]
  },
  {
   "cell_type": "markdown",
   "metadata": {},
   "source": [
    "## Reproducible Initialization\n",
    "\n",
    "If you want to get reproducible results, use `rng` (and restart the kernel); for non-reproducible ones, use `np.random`."
   ]
  },
  {
   "cell_type": "code",
   "execution_count": 101,
   "metadata": {},
   "outputs": [],
   "source": [
    "UNIVERSE_SIZE = 1000\n",
    "NUM_SETS = 200\n",
    "DENSITY = 0.3\n",
    "\n",
    "rng = np.random.Generator(np.random.PCG64([UNIVERSE_SIZE, NUM_SETS, int(10_000 * DENSITY)]))"
   ]
  },
  {
   "cell_type": "code",
   "execution_count": 102,
   "metadata": {},
   "outputs": [],
   "source": [
    "# DON'T EDIT THESE LINES!\n",
    "\n",
    "SETS = np.random.random((NUM_SETS, UNIVERSE_SIZE)) < DENSITY\n",
    "for s in range(UNIVERSE_SIZE):\n",
    "    if not np.any(SETS[:, s]):\n",
    "        SETS[np.random.randint(NUM_SETS), s] = True\n",
    "COSTS = np.pow(SETS.sum(axis=1), 1.1)"
   ]
  },
  {
   "cell_type": "markdown",
   "metadata": {},
   "source": [
    "## Helper Functions"
   ]
  },
  {
   "cell_type": "code",
   "execution_count": 103,
   "metadata": {},
   "outputs": [],
   "source": [
    "def valid(solution):\n",
    "    \"\"\"Checks wether solution is valid (ie. covers all universe)\"\"\"\n",
    "    phenotype = np.logical_or.reduce(SETS[solution])\n",
    "    return np.all(phenotype)\n",
    "\n",
    "\n",
    "def cost(solution):\n",
    "    \"\"\"Returns the cost of a solution (to be minimized)\"\"\"\n",
    "    return COSTS[solution].sum()"
   ]
  },
  {
   "cell_type": "markdown",
   "metadata": {},
   "source": [
    "## Have Fun!"
   ]
  },
  {
   "cell_type": "code",
   "execution_count": 104,
   "metadata": {},
   "outputs": [
    {
     "data": {
      "text/plain": [
       "(np.True_, np.float64(106819.16013898345))"
      ]
     },
     "execution_count": 104,
     "metadata": {},
     "output_type": "execute_result"
    }
   ],
   "source": [
    "# A dumb solution of \"all\" sets\n",
    "solution = np.full(NUM_SETS, True)\n",
    "valid(solution), cost(solution)"
   ]
  },
  {
   "cell_type": "code",
   "execution_count": 105,
   "metadata": {},
   "outputs": [
    {
     "data": {
      "text/plain": [
       "(np.True_, np.float64(-55527.00099620504))"
      ]
     },
     "execution_count": 105,
     "metadata": {},
     "output_type": "execute_result"
    }
   ],
   "source": [
    "# A random solution with random 50% of the sets\n",
    "solution = rng.random(NUM_SETS) < .5\n",
    "valid(solution), -cost(solution)"
   ]
  },
  {
   "cell_type": "code",
   "execution_count": 106,
   "metadata": {},
   "outputs": [],
   "source": [
    "def single_mutation_tweak(solution: np.ndarray) -> np.ndarray:\n",
    "    \"\"\"Tweaks the solution by flipping a random set, i.e. not taking it if it was taken and vice versa\"\"\"\n",
    "    new_sol = solution.copy()\n",
    "    idx = rng.integers(NUM_SETS)\n",
    "    new_sol[idx] = not new_sol[idx]\n",
    "    return new_sol\n",
    "\n",
    "def multi_mutation_tweak(solution: np.ndarray) -> np.ndarray:\n",
    "    new_sol = solution.copy()\n",
    "    \"\"\"Create a random mask of sets to be flipped and apply it to the solution,\n",
    "        flip only if the mask is True and the set is already taken\"\"\"\n",
    "    mask = rng.random(NUM_SETS) < 0.01\n",
    "    new_sol = np.logical_xor(new_sol, mask)\n",
    "\n",
    "    return new_sol"
   ]
  },
  {
   "cell_type": "code",
   "execution_count": 107,
   "metadata": {},
   "outputs": [],
   "source": [
    "def fitness(solution: np.ndarray) -> float:\n",
    "    \"\"\"Returns the fitness of a solution\"\"\"\n",
    "    return (valid(solution), -cost(solution))"
   ]
  },
  {
   "cell_type": "code",
   "execution_count": 108,
   "metadata": {},
   "outputs": [
    {
     "name": "stderr",
     "output_type": "stream",
     "text": [
      "ic| solution_fitness: (np.True_, np.float64(-106819.16013898345))\n",
      "ic| fitness(solution): (np.True_, np.float64(-6689.330630597301))\n"
     ]
    },
    {
     "data": {
      "text/plain": [
       "[<matplotlib.lines.Line2D at 0x13cc2749c70>,\n",
       " <matplotlib.lines.Line2D at 0x13cc27492e0>]"
      ]
     },
     "execution_count": 108,
     "metadata": {},
     "output_type": "execute_result"
    },
    {
     "data": {
      "image/png": "[encoded data removed]",
      "text/plain": [
       "<Figure size 640x480 with 1 Axes>"
      ]
     },
     "metadata": {},
     "output_type": "display_data"
    }
   ],
   "source": [
    "#Vector of all true, keeping all sets and shit\n",
    "solution = rng.random(NUM_SETS) < 1\n",
    "solution_fitness = fitness(solution)\n",
    "ic(solution_fitness)\n",
    "full_history = [(-cost(solution), 1)]\n",
    "\n",
    "tweak = multi_mutation_tweak\n",
    "for steps in range(10000):\n",
    "    new_solution = tweak(solution)\n",
    "    full_history.append((-cost(new_solution), 0))\n",
    "    #if new solution is better than last one take it\n",
    "    if fitness(new_solution) > fitness(solution):\n",
    "        solution = new_solution\n",
    "        full_history.append((-cost(solution), 1))\n",
    "        \n",
    "        #ic(fitness(solution))\n",
    "#ic(solution)\n",
    "ic(fitness(solution))\n",
    "plt.plot(full_history)\n",
    "#plot as points\n"
   ]
  }
 ],
 "metadata": {
  "kernelspec": {
   "display_name": "Python 3 (ipykernel)",
   "language": "python",
   "name": "python3"
  },
  "language_info": {
   "codemirror_mode": {
    "name": "ipython",
    "version": 3
   },
   "file_extension": ".py",
   "mimetype": "text/x-python",
   "name": "python",
   "nbconvert_exporter": "python",
   "pygments_lexer": "ipython3",
   "version": "3.12.2"
  }
 },
 "nbformat": 4,
 "nbformat_minor": 4
}
