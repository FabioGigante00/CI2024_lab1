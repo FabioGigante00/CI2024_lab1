{
 "cells": [
  {
   "cell_type": "markdown",
   "metadata": {},
   "source": [
    "Copyright **`(c)`** 2024 Giovanni Squillero `<giovanni.squillero@polito.it>`  \n",
    "[`https://github.com/squillero/computational-intelligence`](https://github.com/squillero/computational-intelligence)  \n",
    "Free for personal or classroom use; see [`LICENSE.md`](https://github.com/squillero/computational-intelligence/blob/master/LICENSE.md) for details.  "
   ]
  },
  {
   "cell_type": "markdown",
   "metadata": {},
   "source": [
    "# Set Cover problem\n",
    "\n",
    "See: https://en.wikipedia.org/wiki/Set_cover_problem"
   ]
  },
  {
   "cell_type": "code",
   "execution_count": 17,
   "metadata": {},
   "outputs": [],
   "source": [
    "from random import random, seed\n",
    "from itertools import product\n",
    "import numpy as np\n",
    "import matplotlib.pyplot as plt\n",
    "from icecream import ic\n",
    "from tqdm.auto import tqdm\n",
    "import torch"
   ]
  },
  {
   "cell_type": "markdown",
   "metadata": {},
   "source": [
    "## Reproducible Initialization\n",
    "\n",
    "If you want to get reproducible results, use `rng` (and restart the kernel); for non-reproducible ones, use `np.random`."
   ]
  },
  {
   "cell_type": "code",
   "execution_count": 18,
   "metadata": {},
   "outputs": [],
   "source": [
    "UNIVERSE_SIZE = 10_000\n",
    "NUM_SETS = 1_000\n",
    "DENSITY = 0.2\n",
    "\n",
    "rng = np.random.Generator(np.random.PCG64([UNIVERSE_SIZE, NUM_SETS, int(10_000 * DENSITY)]))"
   ]
  },
  {
   "cell_type": "code",
   "execution_count": 19,
   "metadata": {},
   "outputs": [],
   "source": [
    "# DON'T EDIT THESE LINES!\n",
    "\n",
    "SETS = np.random.random((NUM_SETS, UNIVERSE_SIZE)) < DENSITY\n",
    "for s in range(UNIVERSE_SIZE):\n",
    "    if not np.any(SETS[:, s]):\n",
    "        SETS[np.random.randint(NUM_SETS), s] = True\n",
    "COSTS = np.pow(SETS.sum(axis=1), 1.1)\n",
    "\n",
    "SETS = torch.tensor(SETS, dtype=torch.bool)\n",
    "COSTS = torch.tensor(COSTS, dtype=torch.float32)\n",
    "\n",
    "# Move SETS and COSTS to GPU\n",
    "SETS = SETS.to('cuda')\n",
    "COSTS = COSTS.to('cuda')\n"
   ]
  },
  {
   "cell_type": "markdown",
   "metadata": {},
   "source": [
    "## Helper Functions"
   ]
  },
  {
   "cell_type": "code",
   "execution_count": 20,
   "metadata": {},
   "outputs": [],
   "source": [
    "\n",
    "def valid(solution: torch.Tensor, SETS: torch.Tensor) -> bool:\n",
    "    \"\"\"Checks whether the solution is valid (i.e., covers the entire universe) using PyTorch tensors.\"\"\"\n",
    "    selected_sets = SETS[solution]  # Get the sets indexed by the solution\n",
    "    coverage = torch.any(selected_sets, dim=0)  # Check if any True across rows for each column\n",
    "    return torch.all(coverage)  # Valid if all columns are covered (i.e., all True)\n",
    "\n",
    "\n",
    "def cost(solution: torch.Tensor, COSTS: torch.Tensor) -> torch.Tensor:\n",
    "    \"\"\"Returns the cost of a solution (to be minimized) using PyTorch tensors.\"\"\"\n",
    "    return COSTS[solution].sum()\n"
   ]
  },
  {
   "cell_type": "markdown",
   "metadata": {},
   "source": [
    "## Have Fun!"
   ]
  },
  {
   "cell_type": "markdown",
   "metadata": {},
   "source": [
    "Useful functions, Conversion and tweaking"
   ]
  },
  {
   "cell_type": "code",
   "execution_count": 21,
   "metadata": {},
   "outputs": [],
   "source": [
    "\n",
    "# Convert np.ndarray to torch.Tensor\n",
    "def numpy_to_torch_gpu(arr: np.ndarray) -> torch.Tensor:\n",
    "    return torch.tensor(arr, device='cuda')\n",
    "\n",
    "# Convert torch.Tensor to np.ndarray\n",
    "def torch_to_numpy(tensor: torch.Tensor) -> np.ndarray:\n",
    "    return tensor.cpu().numpy()\n",
    "\n",
    "def multi_tweak_no_mask(solution: torch.Tensor) -> torch.Tensor:\n",
    "    new_sol = solution.clone()\n",
    "    index = None\n",
    "\n",
    "    while index is None or torch.rand(1).item() < 0.2:\n",
    "        index = torch.randint(0, NUM_SETS, (1,)).item()\n",
    "        new_sol[index] = not new_sol[index]\n",
    "    \n",
    "    return new_sol\n",
    "\n",
    "def multi_mutation_tweak(solution: torch.Tensor) -> torch.Tensor:\n",
    "    \"\"\"Create a random mask of sets to be flipped and apply it to the solution.\n",
    "       If the mask is True and the set is already taken -> true to false.\n",
    "       If the mask is True and the set is not taken -> false to true.\"\"\"\n",
    "    \n",
    "    # Clone the solution tensor to avoid modifying the original\n",
    "    new_sol = solution.clone()\n",
    "\n",
    "    # While the new solution is the same as the original, keep generating new solutions\n",
    "    while torch.all(new_sol == solution):\n",
    "        mask = torch.rand(NUM_SETS, device=solution.device) < 0.01  # 1% chance of flipping each set\n",
    "        new_sol = torch.logical_xor(new_sol, mask)  # XOR between solution and mask\n",
    "\n",
    "    return new_sol\n",
    "\n",
    "def all_true_solution() -> torch.Tensor:\n",
    "    \"\"\"Returns the solution that selects all sets using PyTorch tensors.\"\"\"\n",
    "    solution = rng.random(NUM_SETS) < 1  # Generate the initial solution\n",
    "    solution = numpy_to_torch_gpu(solution)  # Move solution to GPU\n",
    "    return solution"
   ]
  },
  {
   "cell_type": "code",
   "execution_count": 22,
   "metadata": {},
   "outputs": [],
   "source": [
    "\n",
    "def fitness(solution: torch.Tensor, SETS: torch.Tensor, COSTS: torch.Tensor) -> tuple:\n",
    "    \"\"\"Returns the fitness of a solution using PyTorch tensors\"\"\"\n",
    "    is_valid = valid(solution, SETS)\n",
    "    solution_cost = -cost(solution, COSTS)\n",
    "    return (is_valid, solution_cost)\n",
    "\n",
    "def print_fitness(solution: torch.Tensor, SETS: torch.Tensor, COSTS: torch.Tensor):\n",
    "    \"\"\"Prints the fitness of a solution using PyTorch tensors\"\"\"\n",
    "    is_valid, solution_cost = fitness(solution, SETS, COSTS)\n",
    "    is_valid = is_valid.cpu()\n",
    "    solution_cost = solution_cost.cpu()\n",
    "    print(f\"Is valid: {is_valid}, Solution cost: {solution_cost}\")\n"
   ]
  },
  {
   "cell_type": "markdown",
   "metadata": {},
   "source": [
    "Initialization and Plotting Functions\n"
   ]
  },
  {
   "cell_type": "code",
   "execution_count": 23,
   "metadata": {},
   "outputs": [],
   "source": [
    "def initialize_solution_and_histories():\n",
    "    # Vector of all True\n",
    "    solution = all_true_solution()\n",
    "\n",
    "    # Initialize history\n",
    "    full_history = [(-cost(solution, COSTS), 1)]\n",
    "    bettering_history = [(-cost(solution, COSTS), 1)]\n",
    "\n",
    "    return solution, full_history, bettering_history\n",
    "\n",
    "def plot_history(full_history, bettering_history, file_name):\n",
    "    full_history_numpy = [(x[0].cpu().numpy() if isinstance(x[0], torch.Tensor) else x[0]) for x in full_history]\n",
    "    bettering_history_numpy = [(x[0].cpu().numpy() if isinstance(x[0], torch.Tensor) else x[0]) for x in bettering_history]\n",
    "    linspace_full = np.linspace(0, 1, len(full_history_numpy))  # Adjust linspace length for full history\n",
    "    linspace_bettering = np.linspace(0, 1, len(bettering_history_numpy))  # Adjust linspace length for bettering history\n",
    "    plt.scatter(linspace_full, full_history_numpy, color='red', s=0.2, label='all')\n",
    "    plt.plot(linspace_bettering, bettering_history_numpy, color='blue', label='best')\n",
    "    #build legend\n",
    "    plt.legend(['all', 'best'])\n",
    "    plt.legend()\n",
    "    plt.xlabel('Iteration')\n",
    "    plt.ylabel('Cost')\n",
    "    plt.title('Cost over iterations')\n",
    "    #plt.savefig(file_name)\n",
    "\n",
    "def visualize_results(full_history, bettering_history, file_name):\n",
    "    plot_history(full_history, bettering_history, file_name)\n",
    "    plt.show()"
   ]
  },
  {
   "cell_type": "markdown",
   "metadata": {},
   "source": [
    "Random Multi Tweak"
   ]
  },
  {
   "cell_type": "code",
   "execution_count": 24,
   "metadata": {},
   "outputs": [],
   "source": [
    "\n",
    "def multi_tweak(solution, full_history, bettering_history, NSTEPS) -> \\\n",
    "        tuple[list[tuple[torch.Tensor, int]], list[tuple[torch.Tensor, int]]]:\n",
    "    print_fitness(solution, SETS, COSTS)\n",
    "    tweak = multi_mutation_tweak\n",
    "    last_bettering = 0\n",
    "    for _ in tqdm(range(NSTEPS)):\n",
    "        new_solution = tweak(solution)\n",
    "        full_history.append((-cost(solution, COSTS), 1))\n",
    "        # If new solution is better than the last one, take it\n",
    "        if fitness(new_solution, SETS, COSTS) > fitness(solution, SETS, COSTS):\n",
    "            solution = new_solution\n",
    "            last_bettering = len(full_history)\n",
    "        bettering_history.append((-cost(solution, COSTS), 1))\n",
    "    file_name = 'Multi_Tweak_' + str(UNIVERSE_SIZE) + '_' + str(NUM_SETS) + \\\n",
    "                 '_' + str(DENSITY) + '_' + str(NSTEPS) + '.png'\n",
    "    top_cost = -cost(solution, COSTS).cpu().numpy()\n",
    "    return full_history, bettering_history, file_name, top_cost, last_bettering\n"
   ]
  },
  {
   "cell_type": "markdown",
   "metadata": {},
   "source": [
    "Simulated Annealing With multi random tweaks"
   ]
  },
  {
   "cell_type": "code",
   "execution_count": 25,
   "metadata": {},
   "outputs": [],
   "source": [
    "def simulated_annealing(solution, full_history, bettering_history, NSTEPS) -> \\\n",
    "        tuple[list[tuple[torch.Tensor, int]], list[tuple[torch.Tensor, int]]]:\n",
    "    tweak = multi_mutation_tweak\n",
    "    top_cost = -cost(solution, COSTS)\n",
    "    last_bettering = 0\n",
    "    for _ in tqdm(range(NSTEPS)):\n",
    "        new_solution = tweak(solution)\n",
    "        new_fitness = fitness(new_solution, SETS, COSTS)\n",
    "        current_fitness = fitness(solution, SETS, COSTS)\n",
    "        full_history.append((-cost(new_solution, COSTS), 1))\n",
    "        #if the new solution is better than the current one, accept it\n",
    "        # else if the acceptance probability is greater than a random number between 0 and 1,\n",
    "        # accept the new solution\n",
    "        if new_fitness > current_fitness:\n",
    "            solution = new_solution\n",
    "            last_bettering = len(full_history)\n",
    "            bettering_history.append((-cost(new_solution, COSTS), 1))\n",
    "        else:\n",
    "            #put a lower bound on min temperature, that is decreasing with the number of steps\n",
    "            # from 1 to 0.01\n",
    "            temperature = max(0.01, 1 - len(full_history) / NSTEPS )\n",
    "            # Calculate acceptance probability\n",
    "            # Solution needs to be valid if the starting one was valid\n",
    "            if(new_fitness[0].cpu().numpy() == current_fitness[0].cpu().numpy or new_fitness[0].cpu().numpy == True):\n",
    "                acceptance_probability = np.exp((new_fitness[1].cpu().numpy() - current_fitness[1].cpu().numpy()) / temperature)\n",
    "                if acceptance_probability > rng.random():\n",
    "                    ic(\"Accepted worsening solution\")\n",
    "                    top_cost = -cost(solution, COSTS)\n",
    "                    solution = new_solution\n",
    "        bettering_history.append((-cost(solution, COSTS), 1))\n",
    "    if(top_cost < -cost(solution, COSTS)):\n",
    "        top_cost = -cost(solution, COSTS).cpu().numpy()\n",
    "    else:\n",
    "        top_cost = top_cost.cpu().numpy()\n",
    "    file_name = 'Simulated_Annealing_' + str(UNIVERSE_SIZE) + '_' + str(NUM_SETS) + '_' + str(DENSITY) + '_' + str(NSTEPS) + '.png'\n",
    "    return full_history, bettering_history, file_name, top_cost, last_bettering"
   ]
  },
  {
   "cell_type": "code",
   "execution_count": 26,
   "metadata": {},
   "outputs": [],
   "source": [
    "\n",
    "def powered_tweak(solution: torch.Tensor, SETS: torch.Tensor, COSTS: torch.Tensor) -> torch.Tensor:\n",
    "    \"\"\"Perform a powered random tweak on the solution.\"\"\"\n",
    "    new_sol = solution.clone()\n",
    "    temp = torch.zeros(NUM_SETS, dtype=torch.bool, device=solution.device)  # Invalid solution (all zeros)\n",
    "\n",
    "    # Create a random mask of sets to be flipped\n",
    "    while not valid(temp, SETS):\n",
    "        mask = torch.rand(NUM_SETS, device=solution.device) < 0.1  # Random mask with probability 0.1\n",
    "        temp = torch.logical_xor(new_sol, mask)  # Apply XOR between solution and mask\n",
    "\n",
    "        # If the starting solution is invalid, return the tweaked one anyway\n",
    "        if not fitness(solution, SETS, COSTS)[0]:\n",
    "            return temp\n",
    "\n",
    "    new_sol = temp\n",
    "    return new_sol\n",
    "def new_starting_position(last: torch.Tensor, SETS: torch.Tensor, COSTS: torch.Tensor) -> torch.Tensor:\n",
    "    \"\"\"Returns a new starting position for the solution by performing powered tweak.\"\"\"\n",
    "    # Flip a set with powered_tweak\n",
    "    new = powered_tweak(last, SETS, COSTS)\n",
    "    return new\n",
    "def get_top_maximum(maximums, SETS, COSTS):\n",
    "    #remove False solutions\n",
    "    maximums = [x for x in maximums if fitness(x,SETS, COSTS)[0]]\n",
    "    maximums = sorted(maximums, key=lambda x: -cost(x, COSTS).cpu().numpy(), reverse=True)\n",
    "    return -cost(maximums[0], COSTS).cpu().numpy()\n"
   ]
  },
  {
   "cell_type": "markdown",
   "metadata": {},
   "source": [
    "Iterated Local Search with random multi mutation tweak\n",
    "Steepest step w n = 3"
   ]
  },
  {
   "cell_type": "code",
   "execution_count": 27,
   "metadata": {},
   "outputs": [],
   "source": [
    "\n",
    "def iterated_local_search(solution, full_history, bettering_history, MAX_ITERATIONS, NSTEPS) -> \\\n",
    "        tuple[list[tuple[torch.Tensor, int]], list[tuple[torch.Tensor, int]]]:\n",
    "    CHANGE_STEPS = NSTEPS/MAX_ITERATIONS\n",
    "    N=3\n",
    "    CHANGE_COST = 1e-3\n",
    "    #Iterated Local search\n",
    "    tweak = multi_mutation_tweak\n",
    "    change_quantity = []\n",
    "    change_steps = last_bettering = 0\n",
    "    top_solution = []\n",
    "    for _ in tqdm(range(int(NSTEPS/MAX_ITERATIONS))):\n",
    "        new_solution = [tweak(solution) for _ in range(N)]\n",
    "        new_solution = sorted(new_solution, key=lambda x: fitness(x, SETS, COSTS), reverse=True)[0]\n",
    "        full_history.append((-cost(new_solution, COSTS), 1))\n",
    "        if fitness(new_solution, SETS, COSTS) > fitness(solution, SETS, COSTS):\n",
    "            solution = new_solution\n",
    "            last_bettering = len(full_history)\n",
    "            change_quantity.append(-cost(new_solution, COSTS) + cost(solution, COSTS))\n",
    "        else:\n",
    "            change_quantity.append(0)\n",
    "        change_steps += 1\n",
    "        # if in last CHANGE_STEPS steps the cost of the solution has not changed\n",
    "        if change_steps == CHANGE_STEPS:\n",
    "            if sum(change_quantity) < CHANGE_COST:\n",
    "                top_solution.append(solution)\n",
    "                solution = new_starting_position(solution, SETS, COSTS)\n",
    "                change_quantity = []\n",
    "                change_steps = 0\n",
    "            else:\n",
    "                change_quantity.pop(0)\n",
    "                change_steps -= 1\n",
    "        bettering_history.append((-cost(solution, COSTS), 1))\n",
    "    \n",
    "    top_solution.append(solution)\n",
    "    top_cost = get_top_maximum(top_solution, SETS, COSTS)\n",
    "    file_name = 'Iterated_Local_Search_' + str(UNIVERSE_SIZE) + '_' + str(NUM_SETS) + '_' + str(DENSITY) + '_' + str(NSTEPS) + '.png'\n",
    "    return full_history, bettering_history, file_name, top_cost, last_bettering\n"
   ]
  },
  {
   "cell_type": "markdown",
   "metadata": {},
   "source": [
    "Running main"
   ]
  },
  {
   "cell_type": "code",
   "execution_count": 28,
   "metadata": {},
   "outputs": [],
   "source": [
    "def task(algorithm: str, MAX_ITERATIONS, NSTEPS):\n",
    "    # Initialize solution and histories\n",
    "    solution, full_history, bettering_history = initialize_solution_and_histories()\n",
    "    # Choose the algorithm\n",
    "    if algorithm == 'multi_tweak':\n",
    "        full_history, bettering_history, file_name, top_cost, last_bettering = \\\n",
    "            multi_tweak(solution, full_history, bettering_history, NSTEPS)\n",
    "    elif algorithm == 'simulated_annealing':\n",
    "        full_history, bettering_history, file_name, top_cost, last_bettering = \\\n",
    "            simulated_annealing(solution, full_history, bettering_history, NSTEPS)\n",
    "    elif algorithm == 'iterated_local_search':\n",
    "        full_history, bettering_history, file_name, top_cost, last_bettering = \\\n",
    "            iterated_local_search(solution, full_history, bettering_history, MAX_ITERATIONS, NSTEPS) \n",
    "    else:\n",
    "        raise ValueError(f\"Unknown algorithm: {algorithm}\")\n",
    "    \n",
    "\n",
    "    visualize_results(full_history, bettering_history, file_name)\n",
    "    return top_cost, last_bettering"
   ]
  },
  {
   "cell_type": "code",
   "execution_count": 29,
   "metadata": {},
   "outputs": [],
   "source": [
    "\n",
    "#Choose best algorithm for the given configuration\n",
    "def choose():\n",
    "    max_iter = 5\n",
    "    nsteps = 10000\n",
    "    Multi_tweak_cost, last_mt = task(\"multi_tweak\", max_iter, nsteps)\n",
    "    Simulated_Annealing_cost, last_sa = task(\"simulated_annealing\", max_iter, nsteps)\n",
    "    Iterated_Local_Search_cost, last_il = task(\"iterated_local_search\", max_iter, nsteps)\n",
    "\n",
    "    #Append in choices.txt the best algorithm for the given configuration\n",
    "    # ex. 100 1000 0.2 -> Multi_tweak\n",
    "    print(Multi_tweak_cost, Simulated_Annealing_cost, Iterated_Local_Search_cost)\n",
    "    with open('choices.txt', 'a') as f:\n",
    "        f.write(f\"{UNIVERSE_SIZE} {NUM_SETS} {DENSITY} -> \")\n",
    "        if Multi_tweak_cost > Simulated_Annealing_cost and Multi_tweak_cost > Iterated_Local_Search_cost:\n",
    "            f.write(\"multi_tweak: \" + str(last_mt))\n",
    "        elif Simulated_Annealing_cost > Multi_tweak_cost and Simulated_Annealing_cost > Iterated_Local_Search_cost:\n",
    "            f.write(\"simulated_annealing: \" + str(last_sa))\n",
    "        else:\n",
    "            f.write(\"iterated_local_search: \" + str(last_il))\n",
    "        f.write(\"\\n\")\n",
    "\n"
   ]
  },
  {
   "cell_type": "code",
   "execution_count": 30,
   "metadata": {},
   "outputs": [
    {
     "name": "stdout",
     "output_type": "stream",
     "text": [
      "Algorithm: iterated_local_search, Iterations: 9785\n"
     ]
    }
   ],
   "source": [
    "def get_choice(universe_size, num_sets, density, file_path='choices.txt'):\n",
    "    with open(file_path, 'r') as file:\n",
    "        for line in file:\n",
    "            parts = line.strip().split(' -> ')\n",
    "            if len(parts) != 2:\n",
    "                continue\n",
    "            config, choice = parts\n",
    "            config_parts = config.split()\n",
    "            if len(config_parts) != 3:\n",
    "                continue\n",
    "            u_size, n_sets, dens = map(float, config_parts)\n",
    "            if int(u_size) == universe_size and int(n_sets) == num_sets and float(dens) == density:\n",
    "                algo, iterations = choice.split(': ')\n",
    "                return algo, int(iterations)\n",
    "    return None, None\n",
    "\n",
    "# Example usage\n",
    "universe_size = 10000\n",
    "num_sets = 1000\n",
    "density = 0.2\n",
    "algo, iterations = get_choice(universe_size, num_sets, density)\n",
    "print(f\"Algorithm: {algo}, Iterations: {iterations}\")"
   ]
  },
  {
   "cell_type": "code",
   "execution_count": 31,
   "metadata": {},
   "outputs": [],
   "source": [
    "def main():\n",
    "    algo, iterations = get_choice(UNIVERSE_SIZE, NUM_SETS, DENSITY)\n",
    "    if algo is None:\n",
    "        algo = 'multi_tweak'\n",
    "        iterations = 10000\n",
    "    else:\n",
    "        iterations += iterations/10\n",
    "    \n",
    "    #use the chosen algorithm\n",
    "    min_cost, steps = task(algo, 5, iterations)\n",
    "    print(f\"Minimum cost: {min_cost}, Steps: {steps}\")\n"
   ]
  },
  {
   "cell_type": "code",
   "execution_count": null,
   "metadata": {},
   "outputs": [],
   "source": [
    "main()"
   ]
  }
 ],
 "metadata": {
  "kernelspec": {
   "display_name": "ci-zrOSi8Xw-py3.12",
   "language": "python",
   "name": "python3"
  },
  "language_info": {
   "codemirror_mode": {
    "name": "ipython",
    "version": 3
   },
   "file_extension": ".py",
   "mimetype": "text/x-python",
   "name": "python",
   "nbconvert_exporter": "python",
   "pygments_lexer": "ipython3",
   "version": "3.12.2"
  }
 },
 "nbformat": 4,
 "nbformat_minor": 4
}
